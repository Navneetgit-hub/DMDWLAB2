{
  "nbformat": 4,
  "nbformat_minor": 0,
  "metadata": {
    "colab": {
      "name": "Untitled3.ipynb",
      "provenance": [],
      "authorship_tag": "ABX9TyO08sF79p8JtAsvqEBwyIeI",
      "include_colab_link": true
    },
    "kernelspec": {
      "name": "python3",
      "display_name": "Python 3"
    }
  },
  "cells": [
    {
      "cell_type": "markdown",
      "metadata": {
        "id": "view-in-github",
        "colab_type": "text"
      },
      "source": [
        "<a href=\"https://colab.research.google.com/github/Navneetgit-hub/DMDWLAB2/blob/main/18cse202lab2.ipynb\" target=\"_parent\"><img src=\"https://colab.research.google.com/assets/colab-badge.svg\" alt=\"Open In Colab\"/></a>"
      ]
    },
    {
      "cell_type": "code",
      "metadata": {
        "id": "FLjsD5rLo7Gc"
      },
      "source": [
        "import numpy as np"
      ],
      "execution_count": 1,
      "outputs": []
    },
    {
      "cell_type": "code",
      "metadata": {
        "id": "ympwiLjfo90n",
        "outputId": "15319266-e81e-496a-947c-d228321aae43",
        "colab": {
          "base_uri": "https://localhost:8080/"
        }
      },
      "source": [
        "#1\n",
        "a = np.array([(8,9,10),(11,12,13)])\n",
        "print(a)\n",
        "a=a.reshape(3,2)\n",
        "print(a)"
      ],
      "execution_count": 2,
      "outputs": [
        {
          "output_type": "stream",
          "text": [
            "[[ 8  9 10]\n",
            " [11 12 13]]\n",
            "[[ 8  9]\n",
            " [10 11]\n",
            " [12 13]]\n"
          ],
          "name": "stdout"
        }
      ]
    },
    {
      "cell_type": "code",
      "metadata": {
        "id": "s94Du2A8x7a3",
        "outputId": "75ad3728-e7b8-4b19-e7ed-18d30f42b7fc",
        "colab": {
          "base_uri": "https://localhost:8080/"
        }
      },
      "source": [
        "#2\n",
        "arr=np.array((1,2,3,4))\n",
        "arr"
      ],
      "execution_count": 3,
      "outputs": [
        {
          "output_type": "execute_result",
          "data": {
            "text/plain": [
              "array([1, 2, 3, 4])"
            ]
          },
          "metadata": {
            "tags": []
          },
          "execution_count": 3
        }
      ]
    },
    {
      "cell_type": "code",
      "metadata": {
        "id": "vTlZYywmyFlC",
        "outputId": "aa9130f3-b3bf-40ae-cd8c-2e17a58c79e8",
        "colab": {
          "base_uri": "https://localhost:8080/"
        }
      },
      "source": [
        "#3 array slicing and indexing\n",
        "a=np.array([(1,2,3,4),(3,4,5,6)])\n",
        "print(a[0:,2])"
      ],
      "execution_count": 4,
      "outputs": [
        {
          "output_type": "stream",
          "text": [
            "[3 5]\n"
          ],
          "name": "stdout"
        }
      ]
    },
    {
      "cell_type": "code",
      "metadata": {
        "id": "bBtBae-YyLs-",
        "outputId": "c24709e9-5f1a-4a15-a3b8-3dd7bdd2fe58",
        "colab": {
          "base_uri": "https://localhost:8080/"
        }
      },
      "source": [
        "#4 square root and standard deviation\n",
        "a=np.array([(1,2,3),(3,4,5,)])\n",
        "print(np.sqrt(a))\n",
        "print(np.std(a))"
      ],
      "execution_count": 5,
      "outputs": [
        {
          "output_type": "stream",
          "text": [
            "[[1.         1.41421356 1.73205081]\n",
            " [1.73205081 2.         2.23606798]]\n",
            "1.2909944487358056\n"
          ],
          "name": "stdout"
        }
      ]
    },
    {
      "cell_type": "code",
      "metadata": {
        "id": "pplERyDu-T6a",
        "outputId": "210c43e2-e051-4754-92fe-865517b28ee7",
        "colab": {
          "base_uri": "https://localhost:8080/"
        }
      },
      "source": [
        "#5 Adding operation\n",
        "x= np.array([(1,2,3),(3,4,5)])\n",
        "y= np.array([(1,2,3),(3,4,5)])\n",
        "print(x+y)"
      ],
      "execution_count": 6,
      "outputs": [
        {
          "output_type": "stream",
          "text": [
            "[[ 2  4  6]\n",
            " [ 6  8 10]]\n"
          ],
          "name": "stdout"
        }
      ]
    },
    {
      "cell_type": "code",
      "metadata": {
        "id": "NqfQyeA2-q6-",
        "outputId": "b4266712-f612-46fe-9071-4cd5a9e0d463",
        "colab": {
          "base_uri": "https://localhost:8080/"
        }
      },
      "source": [
        "#6 check number of dimensions\n",
        "a=np.array(10)\n",
        "b=np.array([1,2,3,4,5])\n",
        "c=np.array([[1, 2, 3], [4, 5, 6]])\n",
        "d=np.array([[[1, 2, 3], [4, 5, 6]], [[1, 2, 3], [4, 5, 6]]])\n",
        "print(a.ndim)\n",
        "print(b.ndim)\n",
        "print(c.ndim)\n",
        "print(d.ndim)"
      ],
      "execution_count": 7,
      "outputs": [
        {
          "output_type": "stream",
          "text": [
            "0\n",
            "1\n",
            "2\n",
            "3\n"
          ],
          "name": "stdout"
        }
      ]
    },
    {
      "cell_type": "code",
      "metadata": {
        "id": "XrTl1biy-85v",
        "outputId": "1d38f39e-1ef6-4cf2-f8b7-1e81a2e55b2c",
        "colab": {
          "base_uri": "https://localhost:8080/"
        }
      },
      "source": [
        "#7 \n",
        "\n",
        "arr = np.array(['apple', 'banana', 'cherry'])\n",
        "print(arr.dtype)"
      ],
      "execution_count": 8,
      "outputs": [
        {
          "output_type": "stream",
          "text": [
            "<U6\n"
          ],
          "name": "stdout"
        }
      ]
    },
    {
      "cell_type": "code",
      "metadata": {
        "id": "82dD-HDy_Fng",
        "outputId": "d4fe170f-a60e-4b7d-a72b-eb5a3324419d",
        "colab": {
          "base_uri": "https://localhost:8080/"
        }
      },
      "source": [
        "#8\n",
        "arr = np.array([[1,2,3,4,5], [6,7,8,9,10]])\n",
        "print('Last element from 2nd dim: ', arr[1, -1])"
      ],
      "execution_count": 9,
      "outputs": [
        {
          "output_type": "stream",
          "text": [
            "Last element from 2nd dim:  10\n"
          ],
          "name": "stdout"
        }
      ]
    },
    {
      "cell_type": "code",
      "metadata": {
        "id": "tz2REqmy_RKe",
        "outputId": "88f0572d-e35d-4dea-a9d0-534b4c8bb966",
        "colab": {
          "base_uri": "https://localhost:8080/"
        }
      },
      "source": [
        "#9\n",
        "import numpy as np\n",
        "a = np.array([(1,2,3,4,5,6)])\n",
        "print(a.size)\n",
        "print(a.shape)"
      ],
      "execution_count": 10,
      "outputs": [
        {
          "output_type": "stream",
          "text": [
            "6\n",
            "(1, 6)\n"
          ],
          "name": "stdout"
        }
      ]
    },
    {
      "cell_type": "code",
      "metadata": {
        "id": "dL3lEs5h_ebT",
        "outputId": "59820af8-3418-457b-9fc1-53890d8133f3",
        "colab": {
          "base_uri": "https://localhost:8080/"
        }
      },
      "source": [
        "# 10\n",
        "import numpy as np\n",
        "a = np.array([(1,2,3)])\n",
        "print(a.dtype)"
      ],
      "execution_count": 11,
      "outputs": [
        {
          "output_type": "stream",
          "text": [
            "int64\n"
          ],
          "name": "stdout"
        }
      ]
    },
    {
      "cell_type": "code",
      "metadata": {
        "id": "B-AV_GCh_lZV"
      },
      "source": [
        ""
      ],
      "execution_count": null,
      "outputs": []
    }
  ]
}